{
 "cells": [
  {
   "cell_type": "code",
   "execution_count": 10,
   "id": "726cd440-a9f2-40ae-a349-ba4a07610e0d",
   "metadata": {},
   "outputs": [
    {
     "name": "stdout",
     "output_type": "stream",
     "text": [
      "Requirement already satisfied: matplotlib==3.5.3 in /Users/naimul/miniconda3/envs/housing/lib/python3.9/site-packages (3.5.3)\n",
      "Requirement already satisfied: cycler>=0.10 in /Users/naimul/miniconda3/envs/housing/lib/python3.9/site-packages (from matplotlib==3.5.3) (0.12.1)\n",
      "Requirement already satisfied: fonttools>=4.22.0 in /Users/naimul/miniconda3/envs/housing/lib/python3.9/site-packages (from matplotlib==3.5.3) (4.60.1)\n",
      "Requirement already satisfied: kiwisolver>=1.0.1 in /Users/naimul/miniconda3/envs/housing/lib/python3.9/site-packages (from matplotlib==3.5.3) (1.4.7)\n",
      "Requirement already satisfied: numpy>=1.17 in /Users/naimul/miniconda3/envs/housing/lib/python3.9/site-packages (from matplotlib==3.5.3) (1.26.4)\n",
      "Requirement already satisfied: packaging>=20.0 in /Users/naimul/miniconda3/envs/housing/lib/python3.9/site-packages (from matplotlib==3.5.3) (25.0)\n",
      "Requirement already satisfied: pillow>=6.2.0 in /Users/naimul/miniconda3/envs/housing/lib/python3.9/site-packages (from matplotlib==3.5.3) (11.3.0)\n",
      "Requirement already satisfied: pyparsing>=2.2.1 in /Users/naimul/miniconda3/envs/housing/lib/python3.9/site-packages (from matplotlib==3.5.3) (3.2.5)\n",
      "Requirement already satisfied: python-dateutil>=2.7 in /Users/naimul/miniconda3/envs/housing/lib/python3.9/site-packages (from matplotlib==3.5.3) (2.9.0.post0)\n",
      "Requirement already satisfied: six>=1.5 in /Users/naimul/miniconda3/envs/housing/lib/python3.9/site-packages (from python-dateutil>=2.7->matplotlib==3.5.3) (1.17.0)\n"
     ]
    }
   ],
   "source": [
    "!pip install matplotlib==3.5.3"
   ]
  },
  {
   "cell_type": "code",
   "execution_count": 11,
   "id": "b57ba90b-c086-4391-8cbc-b7d0d6291951",
   "metadata": {},
   "outputs": [],
   "source": [
    "import json\n",
    "import pathlib\n",
    "import pickle\n",
    "from typing import List\n",
    "from typing import Tuple\n",
    "\n",
    "import pandas\n",
    "from sklearn import model_selection\n",
    "from sklearn import neighbors\n",
    "from sklearn import pipeline\n",
    "from sklearn import preprocessing"
   ]
  },
  {
   "cell_type": "code",
   "execution_count": 12,
   "id": "d9427b3e-82ba-4db7-b9c8-2d8ad9a2561f",
   "metadata": {},
   "outputs": [],
   "source": [
    "SALES_PATH = \"../data/kc_house_data.csv\"  # path to CSV with home sale data\n",
    "DEMOGRAPHICS_PATH = \"../data/zipcode_demographics.csv\"  # path to CSV with demographics\n",
    "# List of columns (subset) that will be taken from home sale data\n",
    "SALES_COLUMN_SELECTION = [\n",
    "    'price', 'bedrooms', 'bathrooms', 'sqft_living', 'sqft_lot', 'floors',\n",
    "    'sqft_above', 'sqft_basement', 'zipcode'\n",
    "]\n",
    "OUTPUT_DIR = \"model\"  # Directory where output artifacts will be saved"
   ]
  },
  {
   "cell_type": "code",
   "execution_count": 13,
   "id": "cf37af29-46bc-4c84-9c5f-4127d19cc409",
   "metadata": {},
   "outputs": [],
   "source": [
    "def load_data(\n",
    "    sales_path: str, demographics_path: str, sales_column_selection: List[str]\n",
    ") -> Tuple[pandas.DataFrame, pandas.Series]:\n",
    "    \"\"\"Load the target and feature data by merging sales and demographics.\n",
    "\n",
    "    Args:\n",
    "        sales_path: path to CSV file with home sale data\n",
    "        demographics_path: path to CSV file with home sale data\n",
    "        sales_column_selection: list of columns from sales data to be used as\n",
    "            features\n",
    "\n",
    "    Returns:\n",
    "        Tuple containg with two elements: a DataFrame and a Series of the same\n",
    "        length.  The DataFrame contains features for machine learning, the\n",
    "        series contains the target variable (home sale price).\n",
    "\n",
    "    \"\"\"\n",
    "    data = pandas.read_csv(sales_path,\n",
    "                           usecols=sales_column_selection,\n",
    "                           dtype={'zipcode': str})\n",
    "    demographics = pandas.read_csv(\"../data/zipcode_demographics.csv\",\n",
    "                                   dtype={'zipcode': str})\n",
    "\n",
    "    merged_data = data.merge(demographics, how=\"left\",\n",
    "                             on=\"zipcode\").drop(columns=\"zipcode\")\n",
    "    # Remove the target variable from the dataframe, features will remain\n",
    "    y = merged_data.pop('price')\n",
    "    x = merged_data\n",
    "\n",
    "    return x, y"
   ]
  },
  {
   "cell_type": "code",
   "execution_count": 14,
   "id": "8611205d-1c5f-4709-b6a9-f892d25ea332",
   "metadata": {},
   "outputs": [],
   "source": [
    "\"\"\"Load data, train model, and export artifacts.\"\"\"\n",
    "x, y = load_data(SALES_PATH, DEMOGRAPHICS_PATH, SALES_COLUMN_SELECTION)\n",
    "x_train, x_test, y_train, y_test = model_selection.train_test_split(\n",
    "    x, y, random_state=42)"
   ]
  },
  {
   "cell_type": "code",
   "execution_count": 15,
   "id": "89377d37-9b8f-4acb-8604-dff64c35f54b",
   "metadata": {},
   "outputs": [],
   "source": [
    "model = pipeline.make_pipeline(\n",
    "    preprocessing.RobustScaler(),\n",
    "    neighbors.KNeighborsRegressor()\n",
    ").fit(x_train, y_train)\n",
    "\n",
    "y_pred_train = model.predict(x_train)\n",
    "y_pred_test = model.predict(x_test)"
   ]
  },
  {
   "cell_type": "code",
   "execution_count": 16,
   "id": "fca0756f-3cf8-4fe5-8776-a3a243ec58d5",
   "metadata": {},
   "outputs": [
    {
     "name": "stdout",
     "output_type": "stream",
     "text": [
      "\n",
      "--- Model Performance ---\n",
      "R-squared (R²): 0.728\n",
      "Mean Absolute Error (MAE): $102,044.70\n",
      "Root Mean Squared Error (RMSE): $201,659.43\n",
      "-------------------------\n",
      "\n"
     ]
    }
   ],
   "source": [
    "# --- MODEL EVALUATION ---\n",
    "# 1. Make predictions on the test data\n",
    "y_pred = model.predict(x_test)\n",
    "\n",
    "# 2. Calculate performance metrics\n",
    "r2 = r2_score(y_test, y_pred)\n",
    "mae = mean_absolute_error(y_test, y_pred)\n",
    "rmse = np.sqrt(mean_squared_error(y_test, y_pred))\n",
    "\n",
    "# 3. Print the evaluation results\n",
    "print(\"\\n--- Model Performance ---\")\n",
    "print(f\"R-squared (R²): {r2:.3f}\")\n",
    "print(f\"Mean Absolute Error (MAE): ${mae:,.2f}\")\n",
    "print(f\"Root Mean Squared Error (RMSE): ${rmse:,.2f}\")\n",
    "print(\"-------------------------\\n\")"
   ]
  },
  {
   "cell_type": "code",
   "execution_count": null,
   "id": "f76b5988-70a8-4a49-a13e-de690be229cd",
   "metadata": {},
   "outputs": [],
   "source": [
    "#RandomForestRegressor Implementation"
   ]
  },
  {
   "cell_type": "code",
   "execution_count": 18,
   "id": "2cbdda36-c3c9-4e0a-9a0a-545f5a83a3b7",
   "metadata": {},
   "outputs": [
    {
     "name": "stdout",
     "output_type": "stream",
     "text": [
      "\n",
      "--- RandomForest Model Performance ---\n",
      "Test R-squared (R²): 0.782\n",
      "Test Mean Absolute Error (MAE): $93,758.10\n",
      "-------------------------------------\n",
      "\n"
     ]
    }
   ],
   "source": [
    "from sklearn.ensemble import RandomForestRegressor\n",
    "\"\"\"Load data, train a powerful model, and evaluate.\"\"\"\n",
    "x, y = load_data(SALES_PATH, DEMOGRAPHICS_PATH, SALES_COLUMN_SELECTION)\n",
    "x_train, x_test, y_train, y_test = model_selection.train_test_split(\n",
    "    x, y, random_state=42)\n",
    "\n",
    "# --- SWAP THE MODEL ---\n",
    "# Replace KNeighborsRegressor with RandomForestRegressor\n",
    "# n_estimators is how many \"trees\" it builds. More is often better but slower.\n",
    "model = pipeline.make_pipeline(\n",
    "    preprocessing.RobustScaler(),\n",
    "    RandomForestRegressor(n_estimators=100, random_state=42, n_jobs=-1)\n",
    ").fit(x_train, y_train)\n",
    "# ----------------------\n",
    "\n",
    "# --- EVALUATION ---\n",
    "y_pred = model.predict(x_test)\n",
    "r2 = r2_score(y_test, y_pred)\n",
    "mae = mean_absolute_error(y_test, y_pred)\n",
    "\n",
    "print(\"\\n--- RandomForest Model Performance ---\")\n",
    "print(f\"Test R-squared (R²): {r2:.3f}\")\n",
    "print(f\"Test Mean Absolute Error (MAE): ${mae:,.2f}\")\n",
    "print(\"-------------------------------------\\n\")"
   ]
  },
  {
   "cell_type": "code",
   "execution_count": null,
   "id": "2a41db98-b208-4398-a799-61da712183bc",
   "metadata": {},
   "outputs": [],
   "source": []
  }
 ],
 "metadata": {
  "kernelspec": {
   "display_name": "Python 3 (ipykernel)",
   "language": "python",
   "name": "python3"
  },
  "language_info": {
   "codemirror_mode": {
    "name": "ipython",
    "version": 3
   },
   "file_extension": ".py",
   "mimetype": "text/x-python",
   "name": "python",
   "nbconvert_exporter": "python",
   "pygments_lexer": "ipython3",
   "version": "3.9.23"
  }
 },
 "nbformat": 4,
 "nbformat_minor": 5
}
